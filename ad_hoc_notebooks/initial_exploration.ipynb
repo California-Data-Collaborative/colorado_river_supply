{
 "cells": [
  {
   "cell_type": "markdown",
   "metadata": {},
   "source": [
    "# Colorado Reservoir PDF extraction play"
   ]
  },
  {
   "cell_type": "code",
   "execution_count": 13,
   "metadata": {},
   "outputs": [],
   "source": [
    "# pulling from: https://www.usbr.gov/lc/region/g4000/weekly.pdf"
   ]
  },
  {
   "cell_type": "code",
   "execution_count": 2,
   "metadata": {},
   "outputs": [],
   "source": [
    "import PyPDF2"
   ]
  },
  {
   "cell_type": "code",
   "execution_count": null,
   "metadata": {},
   "outputs": [],
   "source": [
    "# it seems PyPDF2 doesn't enable directly opening a pdf from a link so we'll have to use another package \n",
    "# to download and place it in a local folder"
   ]
  },
  {
   "cell_type": "code",
   "execution_count": 8,
   "metadata": {},
   "outputs": [],
   "source": [
    "pdfFileObj = open('../pdf_data/weekly.pdf', 'rb')\n",
    "pdfReader = PyPDF2.PdfFileReader(pdfFileObj)"
   ]
  },
  {
   "cell_type": "code",
   "execution_count": 9,
   "metadata": {},
   "outputs": [
    {
     "name": "stdout",
     "output_type": "stream",
     "text": [
      "1\n"
     ]
    }
   ],
   "source": [
    "print(pdfReader.numPages)"
   ]
  },
  {
   "cell_type": "code",
   "execution_count": 10,
   "metadata": {},
   "outputs": [],
   "source": [
    "pageObj = pdfReader.getPage(0)"
   ]
  },
  {
   "cell_type": "markdown",
   "metadata": {},
   "source": [
    "## data to extract\n",
    "We're going to need to design a search function to go through this data and extract the key data corresponding to the water supply pdf from MWD.\n",
    "\n",
    "In particular we want for Lake Powell and Mead:\n",
    "* Percent Full\n",
    "* Current Volume\n",
    "* Total Capacity\n",
    "* \n",
    "\n",
    "We also need to calculate the percent of the CRA"
   ]
  },
  {
   "cell_type": "code",
   "execution_count": 11,
   "metadata": {},
   "outputs": [
    {
     "name": "stdout",
     "output_type": "stream",
     "text": [
      "!\n",
      "11/4/2019\n",
      "    LOWER COLORADO WATER SUPPLY REPORT\n",
      "   River Operations\n",
      " Bureau of Reclamation\n",
      "Questions:  BCOOWaterops@usbr.gov\n",
      "(702)293-8373\n",
      "http://www.usbr.gov/lc/region/g4000/weekly.pdf\n",
      "Content\n",
      "Elev. (Feet\n",
      "7-Day\n",
      " PERCENT\n",
      "1000\n",
      "above mean\n",
      "Release\n",
      "   CURRENT STORAGE \n",
      "FULL\n",
      "ac-ft (kaf)\n",
      "sea level)\n",
      "(CFS)\n",
      "     LAKE POWELL \n",
      "54%\n",
      "13,019\n",
      "3,612.85\n",
      "10,300\n",
      "  *  LAKE MEAD              \n",
      "39%\n",
      "10,239\n",
      "1,082.74\n",
      "10,500\n",
      "     LAKE MOHAVE\n",
      "86%\n",
      "1,559\n",
      "637.80\n",
      "9,800\n",
      "     LAKE HAVASU \n",
      "92%\n",
      "573\n",
      "447.62\n",
      "6,300\n",
      "   TOTAL SYSTEM CONTENTS **\n",
      "52%\n",
      "31,197\n",
      "       As of 11/3/2019\n",
      " \n",
      "   SYSTEM CONTENT LAST YEAR\n",
      "46%\n",
      "27,681\n",
      "  *  Percent based on capacity of 26,120 kaf or elevation 1,219.6 feet. \n",
      " Salt/Verde System\n",
      "67%\n",
      "1,526\n",
      " Painted Rock Dam\n",
      "0%\n",
      "0\n",
      "530.00\n",
      "0\n",
      " Alamo Dam\n",
      "1\n",
      "13%\n",
      "127\n",
      "1,115.64\n",
      "25\n",
      "     NEVADA\n",
      "232\n",
      "      SOUTHERN NEVADA WATER SYSTEM\n",
      "204\n",
      "      OTHERS\n",
      "28\n",
      "    CALIFORNIA\n",
      "3,966\n",
      "      METROPOLITAN WATER DISTRICT OF CALIFORNIA\n",
      "503\n",
      "      IRRIGATION DISTRICTS\n",
      "3,450\n",
      "      OTHERS\n",
      "13\n",
      "    ARIZONA\n",
      "2,577\n",
      "     CENTRAL ARIZONA PROJECT\n",
      "1,463\n",
      "     OTHERS\n",
      "1,114\n",
      "    TOTAL LOWER BASIN USE  \n",
      "6,776\n",
      "    DELIVERY TO MEXICO - 2019 \n",
      " (Mexico Scheduled Delivery + Preliminary Yearly Excess\n",
      "2\n",
      ")\n",
      "1,516\n",
      " OTHER SIGNIFICANT INFORMATION\n",
      " UNREGULATED INFLOW INTO LAKE POWELL - NOVEMBER FINAL FORECAST DATED 11/1/2019\n",
      "             MILLION ACRE-FEET\n",
      "    % of Normal\n",
      "    OBSERVED WATER YEAR 2019\n",
      "12.951\n",
      "120%\n",
      "    OBSERVED APRIL-JULY 2019\n",
      "10.410\n",
      "145%\n",
      "    OCTOBER OBSERVED INFLOW\n",
      "0.265\n",
      "52%\n",
      "    NOVEMBER INFLOW FORECAST\n",
      "0.350\n",
      "74%\n",
      "                  Upper Colorado Basin\n",
      "      Salt/Verde Basin\n",
      " WATER YEAR 2020 PRECIP TO DATE\n",
      "3\n",
      "66%\n",
      "(1.9\")\n",
      "14%\n",
      "(0.3\")\n",
      " CURRENT BASIN SNOWPACK\n",
      "NA%\n",
      "(NA)\n",
      "NA%\n",
      "(NA)\n",
      "1 \n",
      "Alamo data as of 10/28/19.\n",
      "2 \n",
      "Delivery to Mexico forecasted yearly excess calculated using year-to-date observed and projected excess.\n",
      "3 \n",
      "Precipitation values may vary significantly from week-to-week early in the water year.\n",
      "  ** TOTAL SYSTEM CONTENTS includes Upper & Lower Colorado River Reservoirs, less Lake Mead exclusive flood \n",
      "control space. \n",
      "Forecasted Water Use for Calendar Year 2019 (as of 11/4/2019) (values in kaf)\n",
      "\n"
     ]
    }
   ],
   "source": [
    "print(pageObj.extractText())"
   ]
  },
  {
   "cell_type": "code",
   "execution_count": null,
   "metadata": {},
   "outputs": [],
   "source": []
  }
 ],
 "metadata": {
  "kernelspec": {
   "display_name": "Python 3",
   "language": "python",
   "name": "python3"
  },
  "language_info": {
   "codemirror_mode": {
    "name": "ipython",
    "version": 3
   },
   "file_extension": ".py",
   "mimetype": "text/x-python",
   "name": "python",
   "nbconvert_exporter": "python",
   "pygments_lexer": "ipython3",
   "version": "3.7.3"
  }
 },
 "nbformat": 4,
 "nbformat_minor": 2
}
